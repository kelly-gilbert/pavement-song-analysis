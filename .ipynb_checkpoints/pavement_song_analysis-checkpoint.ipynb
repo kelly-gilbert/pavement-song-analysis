{
 "cells": [
  {
   "cell_type": "markdown",
   "metadata": {},
   "source": [
    "## Pavement Lyrics Analysis"
   ]
  },
  {
   "cell_type": "code",
   "execution_count": 1,
   "metadata": {},
   "outputs": [],
   "source": [
    "from nltk.corpus import stopwords  \n",
    "from nltk.tokenize import word_tokenize \n",
    "\n",
    "from pandas import read_csv\n",
    "from pandas import DataFrame"
   ]
  },
  {
   "cell_type": "code",
   "execution_count": 2,
   "metadata": {},
   "outputs": [
    {
     "data": {
      "text/html": [
       "<div>\n",
       "<style scoped>\n",
       "    .dataframe tbody tr th:only-of-type {\n",
       "        vertical-align: middle;\n",
       "    }\n",
       "\n",
       "    .dataframe tbody tr th {\n",
       "        vertical-align: top;\n",
       "    }\n",
       "\n",
       "    .dataframe thead th {\n",
       "        text-align: right;\n",
       "    }\n",
       "</style>\n",
       "<table border=\"1\" class=\"dataframe\">\n",
       "  <thead>\n",
       "    <tr style=\"text-align: right;\">\n",
       "      <th></th>\n",
       "      <th>album</th>\n",
       "      <th>lyrics</th>\n",
       "      <th>title</th>\n",
       "      <th>url</th>\n",
       "    </tr>\n",
       "  </thead>\n",
       "  <tbody>\n",
       "    <tr>\n",
       "      <th>0</th>\n",
       "      <td>Unknown</td>\n",
       "      <td>Epileptic seizure in the back\\nOf a red Capri ...</td>\n",
       "      <td>Birds In The Majic Industry</td>\n",
       "      <td>http://lyrics.fandom.com/wiki/Pavement:Birds_I...</td>\n",
       "    </tr>\n",
       "    <tr>\n",
       "      <th>1</th>\n",
       "      <td>Wowee Zowee (1995)</td>\n",
       "      <td>Sunday drive past your own hall of fame\\nIt's ...</td>\n",
       "      <td>Black Out</td>\n",
       "      <td>http://lyrics.fandom.com/wiki/Pavement:Black_Out</td>\n",
       "    </tr>\n",
       "    <tr>\n",
       "      <th>2</th>\n",
       "      <td>Westing (By Musket And Sextant) (1993)</td>\n",
       "      <td>When they fall in\\nThey fall in from the roof\\...</td>\n",
       "      <td>Angel Carver Blues / Mellow Jazz Docent</td>\n",
       "      <td>http://lyrics.fandom.com/wiki/Pavement:Angel_C...</td>\n",
       "    </tr>\n",
       "    <tr>\n",
       "      <th>3</th>\n",
       "      <td>Terror Twilight (1999)</td>\n",
       "      <td>The damage has been done\\nI am not having fun ...</td>\n",
       "      <td>Ann Don't Cry</td>\n",
       "      <td>http://lyrics.fandom.com/wiki/Pavement:Ann_Don...</td>\n",
       "    </tr>\n",
       "    <tr>\n",
       "      <th>4</th>\n",
       "      <td>Wowee Zowee (1995)</td>\n",
       "      <td>Maybe someone's going to save me, my heart is ...</td>\n",
       "      <td>AT&amp;T</td>\n",
       "      <td>http://lyrics.fandom.com/wiki/Pavement:AT%26T</td>\n",
       "    </tr>\n",
       "  </tbody>\n",
       "</table>\n",
       "</div>"
      ],
      "text/plain": [
       "                                    album  \\\n",
       "0                                 Unknown   \n",
       "1                      Wowee Zowee (1995)   \n",
       "2  Westing (By Musket And Sextant) (1993)   \n",
       "3                  Terror Twilight (1999)   \n",
       "4                      Wowee Zowee (1995)   \n",
       "\n",
       "                                              lyrics  \\\n",
       "0  Epileptic seizure in the back\\nOf a red Capri ...   \n",
       "1  Sunday drive past your own hall of fame\\nIt's ...   \n",
       "2  When they fall in\\nThey fall in from the roof\\...   \n",
       "3  The damage has been done\\nI am not having fun ...   \n",
       "4  Maybe someone's going to save me, my heart is ...   \n",
       "\n",
       "                                     title  \\\n",
       "0              Birds In The Majic Industry   \n",
       "1                                Black Out   \n",
       "2  Angel Carver Blues / Mellow Jazz Docent   \n",
       "3                            Ann Don't Cry   \n",
       "4                                     AT&T   \n",
       "\n",
       "                                                 url  \n",
       "0  http://lyrics.fandom.com/wiki/Pavement:Birds_I...  \n",
       "1   http://lyrics.fandom.com/wiki/Pavement:Black_Out  \n",
       "2  http://lyrics.fandom.com/wiki/Pavement:Angel_C...  \n",
       "3  http://lyrics.fandom.com/wiki/Pavement:Ann_Don...  \n",
       "4      http://lyrics.fandom.com/wiki/Pavement:AT%26T  "
      ]
     },
     "execution_count": 2,
     "metadata": {},
     "output_type": "execute_result"
    }
   ],
   "source": [
    "# import the lyrics to a dataframe\n",
    "df = read_csv('pavement_lyrics.csv', encoding='utf-8')\n",
    "df.head()"
   ]
  },
  {
   "cell_type": "markdown",
   "metadata": {},
   "source": [
    "#### Preprocess the lyrics"
   ]
  },
  {
   "cell_type": "code",
   "execution_count": 3,
   "metadata": {},
   "outputs": [
    {
     "data": {
      "text/plain": [
       "0    epileptic seizure in the back\\nof a red capri ...\n",
       "1    sunday drive past your own hall of fame\\nit's ...\n",
       "2    when they fall in\\nthey fall in from the roof\\...\n",
       "3    the damage has been done\\ni am not having fun ...\n",
       "4    maybe someone's going to save me, my heart is ...\n",
       "Name: lyrics_clean, dtype: object"
      ]
     },
     "execution_count": 3,
     "metadata": {},
     "output_type": "execute_result"
    }
   ],
   "source": [
    "# convert to lower case\n",
    "df['lyrics_clean'] = df['lyrics'].str.lower()\n",
    "df['lyrics_clean'].head()"
   ]
  },
  {
   "cell_type": "code",
   "execution_count": 4,
   "metadata": {},
   "outputs": [
    {
     "data": {
      "text/plain": [
       "0    epileptic seizure in the back of a red capri a...\n",
       "1    sunday drive past your own hall of fame it's c...\n",
       "2    when they fall in they fall in from the roof t...\n",
       "3    the damage has been done i am not having fun a...\n",
       "4    maybe someone's going to save me my heart is m...\n",
       "Name: lyrics_clean, dtype: object"
      ]
     },
     "execution_count": 4,
     "metadata": {},
     "output_type": "execute_result"
    }
   ],
   "source": [
    "# remove non-alpha characters\n",
    "df['lyrics_clean'] = df['lyrics_clean'].str.replace(r'[^A-Za-z\\s\\']','')    # retain letters and apostrophes (contractions)\n",
    "df['lyrics_clean'] = df['lyrics_clean'].str.replace(r'\\s+',' ')    # replace multiple whitespaces with one space\n",
    "df['lyrics_clean'].head()"
   ]
  },
  {
   "cell_type": "code",
   "execution_count": 5,
   "metadata": {},
   "outputs": [
    {
     "data": {
      "text/plain": [
       "0    [epileptic, seizure, in, the, back, of, a, red...\n",
       "1    [sunday, drive, past, your, own, hall, of, fam...\n",
       "2    [when, they, fall, in, they, fall, in, from, t...\n",
       "3    [the, damage, has, been, done, i, am, not, hav...\n",
       "4    [maybe, someone's, going, to, save, me, my, he...\n",
       "Name: lyrics_tokens, dtype: object"
      ]
     },
     "execution_count": 5,
     "metadata": {},
     "output_type": "execute_result"
    }
   ],
   "source": [
    "# tokenize the lyrics\n",
    "# in this case, we'll tokenize using split() because we only want to split on whitespace to preserve contractions\n",
    "#df['lyrics_tokens'] = [word_tokenize(lyrics) for lyrics in df['lyrics_clean']]\n",
    "df['lyrics_tokens'] = df['lyrics_clean'].str.split()\n",
    "df['lyrics_tokens'].head()"
   ]
  },
  {
   "cell_type": "code",
   "execution_count": 6,
   "metadata": {},
   "outputs": [
    {
     "ename": "NameError",
     "evalue": "name 'nltk' is not defined",
     "output_type": "error",
     "traceback": [
      "\u001b[1;31m---------------------------------------------------------------------------\u001b[0m",
      "\u001b[1;31mNameError\u001b[0m                                 Traceback (most recent call last)",
      "\u001b[1;32m<ipython-input-6-9cb00eab9536>\u001b[0m in \u001b[0;36m<module>\u001b[1;34m()\u001b[0m\n\u001b[0;32m      1\u001b[0m \u001b[1;31m# remove stop words\u001b[0m\u001b[1;33m\u001b[0m\u001b[1;33m\u001b[0m\u001b[0m\n\u001b[1;32m----> 2\u001b[1;33m \u001b[0mstop_words\u001b[0m \u001b[1;33m=\u001b[0m \u001b[0mset\u001b[0m\u001b[1;33m(\u001b[0m\u001b[0mnltk\u001b[0m\u001b[1;33m.\u001b[0m\u001b[0mcorpus\u001b[0m\u001b[1;33m.\u001b[0m\u001b[0mstopwords\u001b[0m\u001b[1;33m.\u001b[0m\u001b[0mwords\u001b[0m\u001b[1;33m(\u001b[0m\u001b[1;34m'english'\u001b[0m\u001b[1;33m)\u001b[0m\u001b[1;33m)\u001b[0m\u001b[1;33m\u001b[0m\u001b[0m\n\u001b[0m\u001b[0;32m      3\u001b[0m \u001b[0mdf\u001b[0m\u001b[1;33m[\u001b[0m\u001b[1;34m'lyrics_tokens'\u001b[0m\u001b[1;33m]\u001b[0m \u001b[1;33m=\u001b[0m \u001b[1;33m[\u001b[0m\u001b[1;33m[\u001b[0m\u001b[0mw\u001b[0m \u001b[1;32mfor\u001b[0m \u001b[0mw\u001b[0m \u001b[1;32min\u001b[0m \u001b[0mwordlist\u001b[0m \u001b[1;32mif\u001b[0m \u001b[1;32mnot\u001b[0m \u001b[0mw\u001b[0m \u001b[1;32min\u001b[0m \u001b[0mstop_words\u001b[0m\u001b[1;33m]\u001b[0m \u001b[1;32mfor\u001b[0m \u001b[0mwordlist\u001b[0m \u001b[1;32min\u001b[0m \u001b[0mdf\u001b[0m\u001b[1;33m[\u001b[0m\u001b[1;34m'lyrics_tokens'\u001b[0m\u001b[1;33m]\u001b[0m\u001b[1;33m]\u001b[0m\u001b[1;33m\u001b[0m\u001b[0m\n\u001b[0;32m      4\u001b[0m \u001b[0mdf\u001b[0m\u001b[1;33m[\u001b[0m\u001b[1;34m'lyrics_tokens'\u001b[0m\u001b[1;33m]\u001b[0m\u001b[1;33m.\u001b[0m\u001b[0mhead\u001b[0m\u001b[1;33m(\u001b[0m\u001b[1;33m)\u001b[0m\u001b[1;33m\u001b[0m\u001b[0m\n",
      "\u001b[1;31mNameError\u001b[0m: name 'nltk' is not defined"
     ]
    }
   ],
   "source": [
    "# remove stop words\n",
    "stop_words = set(nltk.corpus.stopwords.words('english'))\n",
    "df['lyrics_tokens'] = [[w for w in wordlist if not w in stop_words] for wordlist in df['lyrics_tokens']]\n",
    "df['lyrics_tokens'].head()"
   ]
  },
  {
   "cell_type": "code",
   "execution_count": null,
   "metadata": {},
   "outputs": [],
   "source": [
    "# in this case, we'll lemmatize the words instead of stemming\n",
    "\n",
    "# stem words\n",
    "#from nltk.stem import PorterStemmer    # general-purpose stemmer\n",
    "#stemmer = PorterStemmer()\n",
    "#df['lyrics_tokens'] = [[stemmer.stem(w) for w in wordlist] for wordlist in df['lyrics_tokens']]\n",
    "#df['lyrics_tokens'].head()"
   ]
  },
  {
   "cell_type": "code",
   "execution_count": null,
   "metadata": {},
   "outputs": [],
   "source": [
    "# lemmatize words\n",
    "from nltk.stem import WordNetLemmatizer\n",
    "\n",
    "lemmatizer = WordNetLemmatizer()\n",
    "df['lyrics_tokens'] = [[lemmatizer.lemmatize(w) for w in wordlist] for wordlist in df['lyrics_tokens']]\n",
    "df['lyrics_tokens'].head(20)"
   ]
  },
  {
   "cell_type": "code",
   "execution_count": 7,
   "metadata": {},
   "outputs": [
    {
     "data": {
      "text/plain": [
       "0    ['cause, a, ah, alarm, all, alley, an, and, ap...\n",
       "1    ['til, a, across, actually, air, and, begin, b...\n",
       "2    [answers, are, as, ask, asked, be, because, bu...\n",
       "3    [a, about, above, again, aground, am, american...\n",
       "4    [a, all, along, and, anything, away, back, bal...\n",
       "Name: lyrics_tokens, dtype: object"
      ]
     },
     "execution_count": 7,
     "metadata": {},
     "output_type": "execute_result"
    }
   ],
   "source": [
    "# since words may be repeated in songs (e.g. repeated chorus), keep just the unique words per song\n",
    "from numpy import array\n",
    "from numpy import unique\n",
    "\n",
    "df['lyrics_tokens'] = [unique(array(wordlist)) for wordlist in df['lyrics_tokens']]\n",
    "df['lyrics_tokens'].head()"
   ]
  },
  {
   "cell_type": "markdown",
   "metadata": {},
   "source": [
    "#### Stack the words in a new dataframe"
   ]
  },
  {
   "cell_type": "code",
   "execution_count": 12,
   "metadata": {},
   "outputs": [
    {
     "data": {
      "text/html": [
       "<div>\n",
       "<style scoped>\n",
       "    .dataframe tbody tr th:only-of-type {\n",
       "        vertical-align: middle;\n",
       "    }\n",
       "\n",
       "    .dataframe tbody tr th {\n",
       "        vertical-align: top;\n",
       "    }\n",
       "\n",
       "    .dataframe thead th {\n",
       "        text-align: right;\n",
       "    }\n",
       "</style>\n",
       "<table border=\"1\" class=\"dataframe\">\n",
       "  <thead>\n",
       "    <tr style=\"text-align: right;\">\n",
       "      <th></th>\n",
       "      <th>song_id</th>\n",
       "      <th>album</th>\n",
       "      <th>lyrics</th>\n",
       "      <th>title</th>\n",
       "      <th>url</th>\n",
       "      <th>lyrics_clean</th>\n",
       "      <th>lyrics_tokens</th>\n",
       "    </tr>\n",
       "  </thead>\n",
       "  <tbody>\n",
       "    <tr>\n",
       "      <th>0</th>\n",
       "      <td>0</td>\n",
       "      <td>Unknown</td>\n",
       "      <td>Epileptic seizure in the back\\nOf a red Capri ...</td>\n",
       "      <td>Birds In The Majic Industry</td>\n",
       "      <td>http://lyrics.fandom.com/wiki/Pavement:Birds_I...</td>\n",
       "      <td>epileptic seizure in the back of a red capri a...</td>\n",
       "      <td>['cause, a, ah, alarm, all, alley, an, and, ap...</td>\n",
       "    </tr>\n",
       "    <tr>\n",
       "      <th>1</th>\n",
       "      <td>1</td>\n",
       "      <td>Wowee Zowee (1995)</td>\n",
       "      <td>Sunday drive past your own hall of fame\\nIt's ...</td>\n",
       "      <td>Black Out</td>\n",
       "      <td>http://lyrics.fandom.com/wiki/Pavement:Black_Out</td>\n",
       "      <td>sunday drive past your own hall of fame it's c...</td>\n",
       "      <td>['til, a, across, actually, air, and, begin, b...</td>\n",
       "    </tr>\n",
       "    <tr>\n",
       "      <th>2</th>\n",
       "      <td>2</td>\n",
       "      <td>Westing (By Musket And Sextant) (1993)</td>\n",
       "      <td>When they fall in\\nThey fall in from the roof\\...</td>\n",
       "      <td>Angel Carver Blues / Mellow Jazz Docent</td>\n",
       "      <td>http://lyrics.fandom.com/wiki/Pavement:Angel_C...</td>\n",
       "      <td>when they fall in they fall in from the roof t...</td>\n",
       "      <td>[answers, are, as, ask, asked, be, because, bu...</td>\n",
       "    </tr>\n",
       "    <tr>\n",
       "      <th>3</th>\n",
       "      <td>3</td>\n",
       "      <td>Terror Twilight (1999)</td>\n",
       "      <td>The damage has been done\\nI am not having fun ...</td>\n",
       "      <td>Ann Don't Cry</td>\n",
       "      <td>http://lyrics.fandom.com/wiki/Pavement:Ann_Don...</td>\n",
       "      <td>the damage has been done i am not having fun a...</td>\n",
       "      <td>[a, about, above, again, aground, am, american...</td>\n",
       "    </tr>\n",
       "    <tr>\n",
       "      <th>4</th>\n",
       "      <td>4</td>\n",
       "      <td>Wowee Zowee (1995)</td>\n",
       "      <td>Maybe someone's going to save me, my heart is ...</td>\n",
       "      <td>AT&amp;T</td>\n",
       "      <td>http://lyrics.fandom.com/wiki/Pavement:AT%26T</td>\n",
       "      <td>maybe someone's going to save me my heart is m...</td>\n",
       "      <td>[a, all, along, and, anything, away, back, bal...</td>\n",
       "    </tr>\n",
       "  </tbody>\n",
       "</table>\n",
       "</div>"
      ],
      "text/plain": [
       "   song_id                                   album  \\\n",
       "0        0                                 Unknown   \n",
       "1        1                      Wowee Zowee (1995)   \n",
       "2        2  Westing (By Musket And Sextant) (1993)   \n",
       "3        3                  Terror Twilight (1999)   \n",
       "4        4                      Wowee Zowee (1995)   \n",
       "\n",
       "                                              lyrics  \\\n",
       "0  Epileptic seizure in the back\\nOf a red Capri ...   \n",
       "1  Sunday drive past your own hall of fame\\nIt's ...   \n",
       "2  When they fall in\\nThey fall in from the roof\\...   \n",
       "3  The damage has been done\\nI am not having fun ...   \n",
       "4  Maybe someone's going to save me, my heart is ...   \n",
       "\n",
       "                                     title  \\\n",
       "0              Birds In The Majic Industry   \n",
       "1                                Black Out   \n",
       "2  Angel Carver Blues / Mellow Jazz Docent   \n",
       "3                            Ann Don't Cry   \n",
       "4                                     AT&T   \n",
       "\n",
       "                                                 url  \\\n",
       "0  http://lyrics.fandom.com/wiki/Pavement:Birds_I...   \n",
       "1   http://lyrics.fandom.com/wiki/Pavement:Black_Out   \n",
       "2  http://lyrics.fandom.com/wiki/Pavement:Angel_C...   \n",
       "3  http://lyrics.fandom.com/wiki/Pavement:Ann_Don...   \n",
       "4      http://lyrics.fandom.com/wiki/Pavement:AT%26T   \n",
       "\n",
       "                                        lyrics_clean  \\\n",
       "0  epileptic seizure in the back of a red capri a...   \n",
       "1  sunday drive past your own hall of fame it's c...   \n",
       "2  when they fall in they fall in from the roof t...   \n",
       "3  the damage has been done i am not having fun a...   \n",
       "4  maybe someone's going to save me my heart is m...   \n",
       "\n",
       "                                       lyrics_tokens  \n",
       "0  ['cause, a, ah, alarm, all, alley, an, and, ap...  \n",
       "1  ['til, a, across, actually, air, and, begin, b...  \n",
       "2  [answers, are, as, ask, asked, be, because, bu...  \n",
       "3  [a, about, above, again, aground, am, american...  \n",
       "4  [a, all, along, and, anything, away, back, bal...  "
      ]
     },
     "execution_count": 12,
     "metadata": {},
     "output_type": "execute_result"
    }
   ],
   "source": [
    "# reindex the original dataframe to ensure that the index is unique\n",
    "# and make the index a song_id column\n",
    "df.reset_index(inplace=True)\n",
    "df.rename(columns = {'index' : 'song_id'}, inplace=True)\n",
    "df.head()"
   ]
  },
  {
   "cell_type": "code",
   "execution_count": 13,
   "metadata": {},
   "outputs": [
    {
     "data": {
      "text/plain": [
       "song_id   \n",
       "0        0    'cause\n",
       "         1         a\n",
       "         2        ah\n",
       "         3     alarm\n",
       "         4       all\n",
       "dtype: object"
      ]
     },
     "execution_count": 13,
     "metadata": {},
     "output_type": "execute_result"
    }
   ],
   "source": [
    "# create a new dataframe with the words split into rows, using the song_id\n",
    "df_words = DataFrame(df.lyrics_tokens.tolist(), index=df.song_id).stack()\n",
    "df_words.head()\n",
    "# the dataframe now has a multiindex (song ID, word within song)"
   ]
  },
  {
   "cell_type": "code",
   "execution_count": 14,
   "metadata": {},
   "outputs": [
    {
     "data": {
      "text/html": [
       "<div>\n",
       "<style scoped>\n",
       "    .dataframe tbody tr th:only-of-type {\n",
       "        vertical-align: middle;\n",
       "    }\n",
       "\n",
       "    .dataframe tbody tr th {\n",
       "        vertical-align: top;\n",
       "    }\n",
       "\n",
       "    .dataframe thead th {\n",
       "        text-align: right;\n",
       "    }\n",
       "</style>\n",
       "<table border=\"1\" class=\"dataframe\">\n",
       "  <thead>\n",
       "    <tr style=\"text-align: right;\">\n",
       "      <th></th>\n",
       "      <th>song_id</th>\n",
       "      <th>word</th>\n",
       "    </tr>\n",
       "  </thead>\n",
       "  <tbody>\n",
       "    <tr>\n",
       "      <th>0</th>\n",
       "      <td>0</td>\n",
       "      <td>'cause</td>\n",
       "    </tr>\n",
       "    <tr>\n",
       "      <th>1</th>\n",
       "      <td>0</td>\n",
       "      <td>a</td>\n",
       "    </tr>\n",
       "    <tr>\n",
       "      <th>2</th>\n",
       "      <td>0</td>\n",
       "      <td>ah</td>\n",
       "    </tr>\n",
       "    <tr>\n",
       "      <th>3</th>\n",
       "      <td>0</td>\n",
       "      <td>alarm</td>\n",
       "    </tr>\n",
       "    <tr>\n",
       "      <th>4</th>\n",
       "      <td>0</td>\n",
       "      <td>all</td>\n",
       "    </tr>\n",
       "  </tbody>\n",
       "</table>\n",
       "</div>"
      ],
      "text/plain": [
       "   song_id    word\n",
       "0        0  'cause\n",
       "1        0       a\n",
       "2        0      ah\n",
       "3        0   alarm\n",
       "4        0     all"
      ]
     },
     "execution_count": 14,
     "metadata": {},
     "output_type": "execute_result"
    }
   ],
   "source": [
    "# make song ID a column and rename the fields\n",
    "df_words = df_words.reset_index([0, 'song_id'])\n",
    "df_words.rename(columns = {0 : 'word'}, inplace=True)\n",
    "df_words.head()"
   ]
  },
  {
   "cell_type": "code",
   "execution_count": 15,
   "metadata": {},
   "outputs": [
    {
     "data": {
      "text/html": [
       "<div>\n",
       "<style scoped>\n",
       "    .dataframe tbody tr th:only-of-type {\n",
       "        vertical-align: middle;\n",
       "    }\n",
       "\n",
       "    .dataframe tbody tr th {\n",
       "        vertical-align: top;\n",
       "    }\n",
       "\n",
       "    .dataframe thead th {\n",
       "        text-align: right;\n",
       "    }\n",
       "</style>\n",
       "<table border=\"1\" class=\"dataframe\">\n",
       "  <thead>\n",
       "    <tr style=\"text-align: right;\">\n",
       "      <th></th>\n",
       "      <th>song_id</th>\n",
       "      <th>word</th>\n",
       "      <th>album</th>\n",
       "      <th>title</th>\n",
       "    </tr>\n",
       "  </thead>\n",
       "  <tbody>\n",
       "    <tr>\n",
       "      <th>0</th>\n",
       "      <td>0</td>\n",
       "      <td>'cause</td>\n",
       "      <td>Unknown</td>\n",
       "      <td>Birds In The Majic Industry</td>\n",
       "    </tr>\n",
       "    <tr>\n",
       "      <th>1</th>\n",
       "      <td>0</td>\n",
       "      <td>a</td>\n",
       "      <td>Unknown</td>\n",
       "      <td>Birds In The Majic Industry</td>\n",
       "    </tr>\n",
       "    <tr>\n",
       "      <th>2</th>\n",
       "      <td>0</td>\n",
       "      <td>ah</td>\n",
       "      <td>Unknown</td>\n",
       "      <td>Birds In The Majic Industry</td>\n",
       "    </tr>\n",
       "    <tr>\n",
       "      <th>3</th>\n",
       "      <td>0</td>\n",
       "      <td>alarm</td>\n",
       "      <td>Unknown</td>\n",
       "      <td>Birds In The Majic Industry</td>\n",
       "    </tr>\n",
       "    <tr>\n",
       "      <th>4</th>\n",
       "      <td>0</td>\n",
       "      <td>all</td>\n",
       "      <td>Unknown</td>\n",
       "      <td>Birds In The Majic Industry</td>\n",
       "    </tr>\n",
       "  </tbody>\n",
       "</table>\n",
       "</div>"
      ],
      "text/plain": [
       "   song_id    word    album                        title\n",
       "0        0  'cause  Unknown  Birds In The Majic Industry\n",
       "1        0       a  Unknown  Birds In The Majic Industry\n",
       "2        0      ah  Unknown  Birds In The Majic Industry\n",
       "3        0   alarm  Unknown  Birds In The Majic Industry\n",
       "4        0     all  Unknown  Birds In The Majic Industry"
      ]
     },
     "execution_count": 15,
     "metadata": {},
     "output_type": "execute_result"
    }
   ],
   "source": [
    "# join back to the original dataset to get the song information\n",
    "df_words = df_words.merge(df[['song_id','album','title']], how='inner', on='song_id')\n",
    "df_words.head()"
   ]
  },
  {
   "cell_type": "markdown",
   "metadata": {},
   "source": [
    "#### Unigram counts"
   ]
  },
  {
   "cell_type": "code",
   "execution_count": 16,
   "metadata": {},
   "outputs": [
    {
     "data": {
      "text/html": [
       "<div>\n",
       "<style scoped>\n",
       "    .dataframe tbody tr th:only-of-type {\n",
       "        vertical-align: middle;\n",
       "    }\n",
       "\n",
       "    .dataframe tbody tr th {\n",
       "        vertical-align: top;\n",
       "    }\n",
       "\n",
       "    .dataframe thead th {\n",
       "        text-align: right;\n",
       "    }\n",
       "</style>\n",
       "<table border=\"1\" class=\"dataframe\">\n",
       "  <thead>\n",
       "    <tr style=\"text-align: right;\">\n",
       "      <th></th>\n",
       "      <th>song_id</th>\n",
       "      <th>album</th>\n",
       "      <th>title</th>\n",
       "    </tr>\n",
       "    <tr>\n",
       "      <th>word</th>\n",
       "      <th></th>\n",
       "      <th></th>\n",
       "      <th></th>\n",
       "    </tr>\n",
       "  </thead>\n",
       "  <tbody>\n",
       "    <tr>\n",
       "      <th>the</th>\n",
       "      <td>129</td>\n",
       "      <td>129</td>\n",
       "      <td>129</td>\n",
       "    </tr>\n",
       "    <tr>\n",
       "      <th>i</th>\n",
       "      <td>121</td>\n",
       "      <td>121</td>\n",
       "      <td>121</td>\n",
       "    </tr>\n",
       "    <tr>\n",
       "      <th>and</th>\n",
       "      <td>120</td>\n",
       "      <td>120</td>\n",
       "      <td>120</td>\n",
       "    </tr>\n",
       "    <tr>\n",
       "      <th>you</th>\n",
       "      <td>118</td>\n",
       "      <td>118</td>\n",
       "      <td>118</td>\n",
       "    </tr>\n",
       "    <tr>\n",
       "      <th>a</th>\n",
       "      <td>115</td>\n",
       "      <td>115</td>\n",
       "      <td>115</td>\n",
       "    </tr>\n",
       "  </tbody>\n",
       "</table>\n",
       "</div>"
      ],
      "text/plain": [
       "      song_id  album  title\n",
       "word                       \n",
       "the       129    129    129\n",
       "i         121    121    121\n",
       "and       120    120    120\n",
       "you       118    118    118\n",
       "a         115    115    115"
      ]
     },
     "execution_count": 16,
     "metadata": {},
     "output_type": "execute_result"
    }
   ],
   "source": [
    "# count songs by word\n",
    "df_counts = df_words.groupby(['word']).count()\n",
    "df_counts.sort_values(by=['song_id'], ascending=False, inplace=True)\n",
    "df_counts.head()"
   ]
  },
  {
   "cell_type": "code",
   "execution_count": 17,
   "metadata": {},
   "outputs": [
    {
     "data": {
      "text/plain": [
       "[129, 121, 120, 118, 115, 112, 101, 95, 92]"
      ]
     },
     "execution_count": 17,
     "metadata": {},
     "output_type": "execute_result"
    }
   ],
   "source": [
    "df_counts['song_id'][0:9].tolist()"
   ]
  },
  {
   "cell_type": "code",
   "execution_count": 21,
   "metadata": {},
   "outputs": [
    {
     "data": {
      "image/png": "[encoded data removed]",
      "text/plain": [
       "<Figure size 432x288 with 1 Axes>"
      ]
     },
     "metadata": {
      "needs_background": "light"
     },
     "output_type": "display_data"
    }
   ],
   "source": [
    "# chart the top 10 words\n",
    "from numpy import arange\n",
    "import matplotlib.pyplot as plt\n",
    " \n",
    "# make an array with the list of y positions\n",
    "y_pos = arange(10)\n",
    " \n",
    "# Create horizontal bars\n",
    "plt.barh(y_pos, df_counts['song_id'][0:10].tolist()[::-1])\n",
    " \n",
    "# Create names on the y-axis\n",
    "plt.yticks(y_pos, df_counts.index[0:10].tolist()[::-1])\n",
    "\n",
    "# add a title\n",
    "plt.title(\"Words in the Most Songs\")\n",
    "\n",
    "# Show graphic\n",
    "plt.show()\n"
   ]
  },
  {
   "cell_type": "code",
   "execution_count": 25,
   "metadata": {},
   "outputs": [
    {
     "data": {
      "image/png": "[encoded data removed]",
      "text/plain": [
       "<Figure size 432x288 with 1 Axes>"
      ]
     },
     "metadata": {
      "needs_background": "light"
     },
     "output_type": "display_data"
    }
   ],
   "source": [
    "# plot a word cloud\n",
    "from wordcloud import WordCloud\n",
    " \n",
    "# Create the wordcloud object\n",
    "wordcloud = WordCloud(width=1000, height=500, margin=0).generate(' '.join(df_words['word'].tolist()))\n",
    " \n",
    "# Display the generated image:\n",
    "plt.imshow(wordcloud, interpolation='bilinear')\n",
    "plt.axis(\"off\")\n",
    "plt.margins(x=0, y=0)\n",
    "plt.show()\n"
   ]
  },
  {
   "cell_type": "code",
   "execution_count": null,
   "metadata": {},
   "outputs": [],
   "source": []
  },
  {
   "cell_type": "code",
   "execution_count": null,
   "metadata": {},
   "outputs": [],
   "source": [
    "# tf-idf"
   ]
  },
  {
   "cell_type": "code",
   "execution_count": null,
   "metadata": {},
   "outputs": [],
   "source": [
    "# remove Spiral Stairs songs"
   ]
  },
  {
   "cell_type": "code",
   "execution_count": null,
   "metadata": {},
   "outputs": [],
   "source": [
    "# break into sounds - which are the most Malkmusian sounds?"
   ]
  },
  {
   "cell_type": "code",
   "execution_count": null,
   "metadata": {},
   "outputs": [],
   "source": []
  },
  {
   "cell_type": "code",
   "execution_count": null,
   "metadata": {},
   "outputs": [],
   "source": []
  }
 ],
 "metadata": {
  "kernelspec": {
   "display_name": "Python 3",
   "language": "python",
   "name": "python3"
  },
  "language_info": {
   "codemirror_mode": {
    "name": "ipython",
    "version": 3
   },
   "file_extension": ".py",
   "mimetype": "text/x-python",
   "name": "python",
   "nbconvert_exporter": "python",
   "pygments_lexer": "ipython3",
   "version": "3.7.0"
  }
 },
 "nbformat": 4,
 "nbformat_minor": 2
}
